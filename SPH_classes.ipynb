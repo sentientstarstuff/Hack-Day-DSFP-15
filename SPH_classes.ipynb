{
 "cells": [
  {
   "cell_type": "markdown",
   "id": "blank-establishment",
   "metadata": {},
   "source": [
    "# Overview of Discrete 3D Data\n",
    "\n",
    "We're going to talk about a couple different ways of getting overviews of 3D data that is stored discretely.\n",
    "\n",
    "For this, we'll use some \"real\" data from a galaxy simulation, accessible on the yt-project [sample data page](https://yt-project.org/data/).  Go ahead and download [Gadget Disk Galaxy](http://yt-project.org/data/GadgetDiskGalaxy.tar.gz) and extract it."
   ]
  },
  {
   "cell_type": "markdown",
   "id": "mathematical-player",
   "metadata": {},
   "source": [
    " * Scatter plots and their problems\n",
    " * Summarization of discrete data\n",
    " * Computing neighbor information\n",
    " * Really large sets of particles\n",
    " * Binning, hexbinning, and smoothing"
   ]
  },
  {
   "cell_type": "code",
   "execution_count": 1,
   "id": "stuffed-supplier",
   "metadata": {},
   "outputs": [
    {
     "ename": "ModuleNotFoundError",
     "evalue": "No module named 'h5py'",
     "output_type": "error",
     "traceback": [
      "\u001b[0;31m---------------------------------------------------------------------------\u001b[0m",
      "\u001b[0;31mModuleNotFoundError\u001b[0m                       Traceback (most recent call last)",
      "Input \u001b[0;32mIn [1]\u001b[0m, in \u001b[0;36m<cell line: 2>\u001b[0;34m()\u001b[0m\n\u001b[1;32m      1\u001b[0m \u001b[38;5;28;01mimport\u001b[39;00m \u001b[38;5;21;01mnumpy\u001b[39;00m \u001b[38;5;28;01mas\u001b[39;00m \u001b[38;5;21;01mnp\u001b[39;00m\n\u001b[0;32m----> 2\u001b[0m \u001b[38;5;28;01mimport\u001b[39;00m \u001b[38;5;21;01mh5py\u001b[39;00m\n\u001b[1;32m      3\u001b[0m \u001b[38;5;28;01mimport\u001b[39;00m \u001b[38;5;21;01mmatplotlib\u001b[39;00m\u001b[38;5;21;01m.\u001b[39;00m\u001b[38;5;21;01mpyplot\u001b[39;00m \u001b[38;5;28;01mas\u001b[39;00m \u001b[38;5;21;01mplt\u001b[39;00m\n\u001b[1;32m      4\u001b[0m \u001b[38;5;28;01mimport\u001b[39;00m \u001b[38;5;21;01mmatplotlib\u001b[39;00m\u001b[38;5;21;01m.\u001b[39;00m\u001b[38;5;21;01mcolors\u001b[39;00m \u001b[38;5;28;01mas\u001b[39;00m \u001b[38;5;21;01mmcm\u001b[39;00m\n",
      "\u001b[0;31mModuleNotFoundError\u001b[0m: No module named 'h5py'"
     ]
    }
   ],
   "source": [
    "import numpy as np\n",
    "import h5py\n",
    "import matplotlib.pyplot as plt\n",
    "import matplotlib.colors as mcm\n",
    "import SPH_functions\n",
    "#import ipywidgets\n",
    "#import pythreejs\n",
    "plt.rcParams[\"figure.dpi\"] = 200"
   ]
  },
  {
   "cell_type": "code",
   "execution_count": 4,
   "id": "ac393f60",
   "metadata": {},
   "outputs": [],
   "source": [
    "class coordinate:\n",
    "    def __init__(self, x = 0, y = 0):\n",
    "        self.x = x\n",
    "        self.y = y\n",
    "        \n",
    "    def transform():\n",
    "        pass\n",
    "    \n",
    "    # TODO: act like a tuple"
   ]
  },
  {
   "cell_type": "code",
   "execution_count": 10,
   "id": "3958d8cc",
   "metadata": {},
   "outputs": [],
   "source": [
    "class particle:\n",
    "    def __init__(self, mass = 1, position = coordinate, velocity = 0, temperature = 373, k = 1, h = 1, lmda = 1, dt = 0.5, n = 1):\n",
    "        self.mass = mass # g\n",
    "        self.position = position # cm\n",
    "        self.velocity = velocity # cm/s\n",
    "        self.temperature = temperature # Kelvin\n",
    "        self.h = h\n",
    "        self.k = k\n",
    "        self.dt = dt\n",
    "        self.n = n\n",
    "        self.lmda = lmda\n",
    "        \n",
    "    def location(self):\n",
    "        #print(self.position)\n",
    "        return np.sqrt(self.position[0]**2 + self.position[1]**2)\n",
    "    \n",
    "    def __sub__(self, other):\n",
    "        return np.sqrt((self.position[0] - other.position[0])**2 + (self.position[1] - other.position[1])**2)\n",
    "    \n",
    "    def density(self):\n",
    "        return self.mass*Kernel(self, Vol = 1)\n",
    "    \n",
    "    def pressure(self):\n",
    "        return self.k * self.density()**(1+1/self.n)\n",
    "    \n",
    "    def acc(self):\n",
    "        p = max(self.pressure(), 0.001)\n",
    "        rho = max(self.density(),0.0001)\n",
    "        dWx = gradW(self, Vol = 1)\n",
    "\n",
    "        return self.mass * 2*p/rho**2 * dWx - self.lmda*self.location()\n",
    "    \n",
    "    def vel(self):\n",
    "        return 0.5*self.acc()*self.dt\n",
    "    \n",
    "    def new_pos(self):\n",
    "        return self.vel()*self.dt"
   ]
  }
 ],
 "metadata": {
  "kernelspec": {
   "display_name": "Python 3 (ipykernel)",
   "language": "python",
   "name": "python3"
  },
  "language_info": {
   "codemirror_mode": {
    "name": "ipython",
    "version": 3
   },
   "file_extension": ".py",
   "mimetype": "text/x-python",
   "name": "python",
   "nbconvert_exporter": "python",
   "pygments_lexer": "ipython3",
   "version": "3.9.13"
  },
  "widgets": {
   "application/vnd.jupyter.widget-state+json": {
    "state": {},
    "version_major": 2,
    "version_minor": 0
   }
  }
 },
 "nbformat": 4,
 "nbformat_minor": 5
}
